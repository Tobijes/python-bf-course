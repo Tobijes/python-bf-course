{
 "cells": [
  {
   "cell_type": "code",
   "execution_count": null,
   "id": "7e05ddef-85ea-495b-90a3-2e1485d626e6",
   "metadata": {
    "jupyter": {
     "source_hidden": true
    }
   },
   "outputs": [],
   "source": [
    "from typing import Callable\n",
    "import math\n",
    "import base64\n",
    "MESSAGE = \"Jeg håber I hyggede og lærte noget!\"\n",
    "MESSAGE = MESSAGE.encode(\"utf-8\")\n",
    "KEY = base64.b64encode(MESSAGE)\n",
    "KEY = KEY.decode(\"utf-8\")\n",
    "single_key_len = len(KEY) // 5\n",
    "\n",
    "def pjudge(*s):\n",
    "    print(\"DOMMER:\", *s)\n",
    "\n",
    "def evaluate(output, result, key):\n",
    "    if output == result:\n",
    "        print(\"-----------------\")\n",
    "        pjudge(\"I gjorde det! Perfekt! Her er en bid af nøglen I skal bruge:\")\n",
    "        pjudge(key)\n",
    "        print(\"-----------------\")\n",
    "        return True\n",
    "    else:\n",
    "        pjudge(f\"Resultatet: {output} var desværre ikke rigtig. Vi forventede {result}\")\n",
    "        return False\n",
    "\n",
    "def evaluate_challenge_one(function: Callable):\n",
    "    key = KEY[0:single_key_len]\n",
    "    output = function(1,2)\n",
    "    if evaluate(output, 7, key):\n",
    "        return key\n",
    "    \n",
    "\n",
    "def evaluate_challenge_two(function: Callable):\n",
    "    key = KEY[single_key_len:single_key_len*2]\n",
    "    output = round(function(75, 1.80), 1)\n",
    "    if evaluate(output, 23.1, key):\n",
    "        return key\n",
    "\n",
    "def evaluate_challenge_three(function: Callable):\n",
    "    key = KEY[single_key_len*2:single_key_len*3]\n",
    "    output = function(\"Wim\")\n",
    "    if evaluate(output, \"Wim, du skal tage en bong!\", key):\n",
    "        return key\n",
    "\n",
    "def evaluate_challenge_four(function: Callable):\n",
    "    key = KEY[single_key_len*3:single_key_len*4]\n",
    "    output = (function(144), function(319))\n",
    "    if evaluate(output, (\"Lige\", \"Ulige\"), key):\n",
    "        return key\n",
    "\n",
    "\n",
    "def evaluate_challenge_five(function: Callable):\n",
    "    key = KEY[single_key_len*4:len(KEY)]\n",
    "    output = function(\"BF er fucking nice!\", 10)\n",
    "    if evaluate(output, None, key):\n",
    "        return key\n",
    "\n",
    "def key_check(s):\n",
    "    base64_bytes = s.encode(\"utf-8\")\n",
    "    sample_string_bytes = base64.b64decode(base64_bytes)\n",
    "    sample_string = sample_string_bytes.decode(\"utf-8\")\n",
    "    return sample_string"
   ]
  },
  {
   "cell_type": "markdown",
   "id": "56ac85df-bd5f-4ef4-947f-a1c0deff5178",
   "metadata": {},
   "source": [
    "# BF 2024 Python Kursus\n",
    "Velkommen til BF 2024 Python Kursus! Dette dokument kaldes en Jupyter Notebook eller bare i daglig tale en \"Notebook\". \n",
    "\n",
    "  "
   ]
  },
  {
   "cell_type": "markdown",
   "id": "7324e744-5db0-4da3-bafa-ad4242edba67",
   "metadata": {},
   "source": [
    "## Udfordring 1 - Strukturen af et Python program\n",
    "I denne udfordring skal I lære at forstå strukturen af et simpelt Pythons-script.\n",
    "\n",
    "**Opgave:** I har fået udleveret nogle kode-strips. Læg dem i den rigtige rækkefølge og skriv så programmet ind.\n",
    "\n",
    "Et hint kan være en forklaring om at vi har at gøre med Python funktion. En funktion skal først **def**ineres. Herefter skal en funktion være en funktion \"af noget\". Lidt ligesom i Mat på gym har vi typisk at gøre med funktioner af formen *f(x)* eller *f(a,b)* osv."
   ]
  },
  {
   "cell_type": "code",
   "execution_count": null,
   "id": "23f3fb37-0d35-44ac-a0e4-2168cc1db5a5",
   "metadata": {},
   "outputs": [],
   "source": [
    "# Udfording 1: Skriv den samlede funktion i denne kasse:\n"
   ]
  },
  {
   "cell_type": "code",
   "execution_count": null,
   "id": "0e24e7c6-c9c8-4b23-b183-e432c5349f12",
   "metadata": {},
   "outputs": [],
   "source": [
    "# Denne linje er til evaluering - slet ikke!\n",
    "key_one = evaluate_challenge_one(challenge_one)"
   ]
  },
  {
   "cell_type": "markdown",
   "id": "abcb4eb2-dfff-4266-95e2-41e126dda5f2",
   "metadata": {},
   "source": [
    "## Udfordring 2 - Quick maths\n",
    "Nu skal I skrive jeres første program helt selv.\n",
    "\n",
    "I denne udfordring skal vi se hvordan man kan skrive en simpel funktion til at regne BMI.\n",
    "BMI er udregnet ved \n",
    "$$\n",
    "bmi = \\frac{vægt}{højde^2}\n",
    "$$\n",
    "\n",
    "I Python bruger man følgende symboler til at regne med (mellemrum er ligegyldigt)\n",
    "\n",
    "**Addition** `a + b`\n",
    "\n",
    "**Subtraktion** `a - b`\n",
    "\n",
    "**Multiplikation** `a * b`\n",
    "\n",
    "**Division** `a / b`\n",
    "\n",
    "**Potens** `a**b` eksempelvis skrives $2^3$ som `2**3`\n",
    "\n",
    "**Heltals-rest ved division**: `a % b` eksempelvis `7%2` -> `1`. Kan eksempelvis bruges til at afgøre om et tal er lige eller ulige. Operatoren hedder \"modulus\"\n",
    "\n",
    "Vær opmærksom på resultat skal returneres, dvs. lidt ligesom i **Udfordring 1** skal vi ende med noget ala `return bmi`, hvis resultatet er gemt i variablen `bmi`\n",
    "Kig ekstra godt på **Udfordring 1** hvis I er i tvivl om hvordan en program skal skrives. Ellers er her et simpelt eksempel:\n",
    "\n",
    "```python\n",
    "def sum(a,b):\n",
    "    result = a + b\n",
    "    return result\n",
    "```\n",
    "\n",
    "**Opgave:** Lav en funktion der tager to parametre `weight` (kg) og `height` (m) og udregner BMI med formlen ovenfor. Vær opmærksom på at funktionen skal returnere resultatet.\n",
    "\n",
    "**Eksempel**: `weight=75` og `height=1.75` giver `24.5` (afrundet) "
   ]
  },
  {
   "cell_type": "code",
   "execution_count": null,
   "id": "01240f31-2c79-404b-bee2-e5ce4c94e4c5",
   "metadata": {},
   "outputs": [],
   "source": [
    "# Udfording 2: Skriv koden i denne kasse:\n",
    "def challenge_two(weight, height):\n",
    "    # Indsæt formel her\n",
    "    \n",
    "    return bmi"
   ]
  },
  {
   "cell_type": "code",
   "execution_count": null,
   "id": "6d7a77ee-eba4-47ff-91d8-3bcfc2bacf1e",
   "metadata": {},
   "outputs": [],
   "source": [
    "# Denne linje er til evaluering - slet ikke!\n",
    "key_two = evaluate_challenge_two(challenge_two)"
   ]
  },
  {
   "cell_type": "markdown",
   "id": "0b6351f4-c8fa-4469-a623-c8469c33d80f",
   "metadata": {},
   "source": [
    "## Udfordring 3 - Arbejd med tekststrenge\n",
    "I programmering kalder man typisk tekst af forskellige former for *strenge* eller \"*strings*\" nok oftere. Her menes at når der tales om tekst, så taler vi egentlig om en række af bogstaver/karakterer.\n",
    "\n",
    "I programmet nedenfor har vi `name` som en parameter. Forsestil dig at `name` skal tage en bong. I det tilfælde skal det lyde noget henaf \"`name`, du skal tage en bong!\"\n",
    "\n",
    "I Python kan man plusse to strenge sammen med `+`. Et eksempel er her "
   ]
  },
  {
   "cell_type": "code",
   "execution_count": null,
   "id": "4e6f8de6-8604-49c7-8b23-7fcd7ee4f2df",
   "metadata": {},
   "outputs": [],
   "source": [
    "def best_festival():\n",
    "    festival=\"BF\"\n",
    "    year=\"2024\"\n",
    "    result=festival+year\n",
    "    return result\n",
    "\n",
    "print(\"Resultat:\")\n",
    "best_festival()"
   ]
  },
  {
   "cell_type": "markdown",
   "id": "7862bd81-980b-4fd2-8187-028e4fe7ab89",
   "metadata": {},
   "source": [
    "**Opgave:** Givet en streng `name` som parameter i vores funktion, skal funktionen returnere \"`name`, du skal tage en bong!\" \n",
    "\n",
    "**Eksempel:** `name=Jeppe ` -> `Jeppe, du skal tage en bong!` "
   ]
  },
  {
   "cell_type": "code",
   "execution_count": null,
   "id": "de53eaaa-411d-474a-a1ca-f5ef36a96fd8",
   "metadata": {},
   "outputs": [],
   "source": [
    "# Udfording 3: Skriv koden i denne kasse:\n",
    "def challenge_three(name):\n",
    "    # Indsæt streng-addition her\n",
    "    \n",
    "    return result"
   ]
  },
  {
   "cell_type": "code",
   "execution_count": null,
   "id": "932fbb7d-5258-4ac7-9c40-ab35ea534e1b",
   "metadata": {},
   "outputs": [],
   "source": [
    "# Denne linje er til evaluering - slet ikke!\n",
    "key_three = evaluate_challenge_three(challenge_three)"
   ]
  },
  {
   "cell_type": "markdown",
   "id": "589181fe-27d3-4411-a761-2634ab4fac28",
   "metadata": {},
   "source": [
    "## Udfordring 4 - Logik\n",
    "En af de ting computere er bedst til er håndtering af logiske spørgsmål. Kan man beskrive sit problem med regler som \"hvis det her, så det her, ellers så det her\", så er man tæt på home-safe.\n",
    "\n",
    "Man kan rigtig mange ting med logik, og her skal vi kigge på det simpleste, nemlig `if` og `else`. Et eksempel kunne være:\n",
    "\n",
    "```python\n",
    "def above_four(number):\n",
    "    if number > 4:\n",
    "        return \"Tallet er større end 4!\"\n",
    "    else:\n",
    "        return \"Tallet er sgu småt...\"\n",
    "```\n",
    "\n",
    "**Opgave:** Lav en funktion der kigger på om parametren `number` er lige eller ulige. Hvis lige returner strengen `\"Lige\"`, hvis ulige returner strengen `\"Ulige\"`. \n",
    "- Vær opmærksom på stort bogstav\n",
    "- Hvis du ikke ved hvordan man tjekker for lige eller ulige, overvej at læse **Udfordring 2** igen ;)"
   ]
  },
  {
   "cell_type": "code",
   "execution_count": null,
   "id": "027ac66e-3803-4fa2-b1d3-3c1104e659c3",
   "metadata": {},
   "outputs": [],
   "source": [
    "# Udfording 4: Skriv koden i denne kasse:\n",
    "def challenge_four(number):\n",
    "    # Indsæt if-else betingelser her\n",
    "    "
   ]
  },
  {
   "cell_type": "code",
   "execution_count": null,
   "id": "dd3714b0-9e9e-45d2-a2ad-3ea71e998247",
   "metadata": {},
   "outputs": [],
   "source": [
    "# Denne linje er til evaluering - slet ikke!\n",
    "key_four = evaluate_challenge_four(challenge_four)"
   ]
  },
  {
   "cell_type": "markdown",
   "id": "3c4175c3-98e2-4e92-9d6d-6aa552444d97",
   "metadata": {},
   "source": [
    "## Udfordring 5 - Løkker\n",
    "Udover logik, så er en de store styrker ved computerprogrammer at de kan gøre det samme om og om igen, utrætteligt!\n",
    "\n",
    "I Python kan man nemt gentage en kode flere gange ved hjælp af \n",
    "\n",
    "```python\n",
    "for i in range(100):\n",
    "    ...\n",
    "```\n",
    "\n",
    "Tag for eksempel over kør nedenstående kasse:"
   ]
  },
  {
   "cell_type": "code",
   "execution_count": null,
   "id": "dd31e645-5f5c-4bc3-ae7b-6267894471b0",
   "metadata": {},
   "outputs": [],
   "source": [
    "for i in range(5):\n",
    "    print(\"BF\")"
   ]
  },
  {
   "cell_type": "markdown",
   "id": "d0ba3070-16b4-4bfe-955d-dc8a149ef088",
   "metadata": {},
   "source": [
    "**Opgave:** Skriv en funktion der tager to parametre `string` og `count` og printer den samme streng et antal gange - altså printer strengen `string` antallet `count` gange.\n",
    "\n",
    "Denne gang skal funktionen ikke returnere noget, men bare bruge `print()` i for-løkken"
   ]
  },
  {
   "cell_type": "code",
   "execution_count": null,
   "id": "ea036395-f5c6-4115-9ff2-9cca0ea0287b",
   "metadata": {},
   "outputs": [],
   "source": [
    "# Udfording 5: Skriv koden i denne kasse:\n",
    "def challenge_five(string, count):\n",
    "    # Skriv for-loop her:\n",
    "    "
   ]
  },
  {
   "cell_type": "code",
   "execution_count": null,
   "id": "f9be2f5c-dfaf-4979-9565-dc1b2d36116d",
   "metadata": {},
   "outputs": [],
   "source": [
    "# Denne linje er til evaluering - slet ikke!\n",
    "key_five = evaluate_challenge_five(challenge_five)"
   ]
  },
  {
   "cell_type": "markdown",
   "id": "66e333c6-68e0-423c-8a10-5d0423596b19",
   "metadata": {},
   "source": [
    "## Lås op for præmien"
   ]
  },
  {
   "cell_type": "markdown",
   "id": "1e3c9452-82ec-4e14-863b-415991a6252d",
   "metadata": {},
   "source": [
    "Hvis alle opgaver er løst, kan vi kombinere dem og opnå den hemmelige løsning!"
   ]
  },
  {
   "cell_type": "code",
   "execution_count": null,
   "id": "ed821804-881d-491a-805d-0a014c70d39a",
   "metadata": {},
   "outputs": [],
   "source": [
    "print(\"Kode 1:\",key_one)\n",
    "print(\"Kode 2:\",key_two)\n",
    "print(\"Kode 3:\",key_three)\n",
    "print(\"Kode 4:\",key_four)\n",
    "print(\"Kode 5:\",key_five)\n",
    "\n",
    "all_keys = key_one+key_two+key_three+key_four+key_five\n",
    "print()\n",
    "print(\"Kode sammenlangt: \\\"\", all_keys, \"\\\"\")\n",
    "print()\n",
    "print(\"Kode konverteres: \\\"\", key_check(all_keys), \"\\\"\")\n"
   ]
  }
 ],
 "metadata": {
  "kernelspec": {
   "display_name": "Python 3 (ipykernel)",
   "language": "python",
   "name": "python3"
  },
  "language_info": {
   "codemirror_mode": {
    "name": "ipython",
    "version": 3
   },
   "file_extension": ".py",
   "mimetype": "text/x-python",
   "name": "python",
   "nbconvert_exporter": "python",
   "pygments_lexer": "ipython3",
   "version": "3.11.9"
  }
 },
 "nbformat": 4,
 "nbformat_minor": 5
}
